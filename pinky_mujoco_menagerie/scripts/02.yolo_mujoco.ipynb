{
 "cells": [
  {
   "cell_type": "code",
   "execution_count": 13,
   "id": "84691a1f",
   "metadata": {},
   "outputs": [],
   "source": [
    "import cv2\n",
    "from ultralytics import YOLO\n",
    "from PIL import Image"
   ]
  },
  {
   "cell_type": "code",
   "execution_count": 14,
   "id": "1beaee17",
   "metadata": {},
   "outputs": [
    {
     "name": "stdout",
     "output_type": "stream",
     "text": [
      "\n",
      "0: 480x640 1 can, 1 milk, 1 lemon, 150.7ms\n",
      "Speed: 4.3ms preprocess, 150.7ms inference, 1.9ms postprocess per image at shape (1, 3, 480, 640)\n"
     ]
    }
   ],
   "source": [
    "img_path = \"./mujoco_objects.png\"\n",
    "frame = cv2.imread(img_path)\n",
    "if frame is None:\n",
    "    raise FileNotFoundError(f\"이미지를 찾을 수 없습니다: {img_path}\")\n",
    "\n",
    "frame = cv2.resize(frame, (640, 480))\n",
    "model = YOLO(\"yolo11n.pt\")\n",
    "results = model(source=frame, conf=0.5, verbose=True)"
   ]
  },
  {
   "cell_type": "code",
   "execution_count": 16,
   "id": "1e7851c6",
   "metadata": {},
   "outputs": [],
   "source": [
    "for i, r in enumerate(results):\n",
    "    im_bgr = r.plot()  \n",
    "    im_rgb = Image.fromarray(im_bgr[..., ::-1]) \n",
    "    r.show()"
   ]
  },
  {
   "cell_type": "code",
   "execution_count": 19,
   "id": "da8f0f72",
   "metadata": {},
   "outputs": [],
   "source": [
    "import numpy as np\n",
    "import mujoco as mj\n",
    "from mujoco.glfw import glfw # MuJoCo 시뮬레이터 GLFW (OpenGL 기반 윈도우/입력 라이브러리)\n",
    "\n",
    "import sys, os\n",
    "sys.path.append(os.path.abspath(os.path.join(os.getcwd(), \"..\")))\n",
    "\n",
    "from utils.mouse_callbacks import MouseCallbacks # 마우스 이벤트(카메라 회전/이동/줌 등) 콜백\n",
    "from utils.keyboard_callbacks import KeyboardCallbacks # 키보드 입력(로봇 제어 및 초기화) 콜백 \n",
    "from utils.scene_creator import SceneCreator # MJCF xml 파일 조합 및 scene 빌드용 헬퍼"
   ]
  },
  {
   "cell_type": "code",
   "execution_count": 20,
   "metadata": {},
   "outputs": [
    {
     "name": "stdout",
     "output_type": "stream",
     "text": [
      "project root: c:\\Users\\addinedu\\short\\pinky_mujoco_menagerie\n"
     ]
    }
   ],
   "source": [
    "cwd = os.getcwd() \n",
    "PROJECT_ROOT = os.path.dirname(cwd)\n",
    "print(f\"project root: {PROJECT_ROOT}\")\n",
    "\n",
    "assets_dir = os.path.join(PROJECT_ROOT, \"assets\")\n",
    "base_env_path = os.path.join(assets_dir, \"scenes\", \"floor_sky.xml\")   # 환경 MJCF\n",
    "robot_path = os.path.join(assets_dir, \"robots\", \"pinky\", \"pinky.xml\") # 로봇 MJCF\n",
    "\n",
    "# 배치할 오브젝트 정보\n",
    "objects_to_spawn = [\n",
    "    {\"path\": os.path.join(assets_dir, \"objects\", \"can.xml\"), \"name\": \"can_1\",  \"pos\": \"0.5 0.3 0.05\"},\n",
    "    {\"path\": os.path.join(assets_dir, \"objects\", \"milk.xml\"), \"name\": \"milk_1\", \"pos\": \"0.5 0.0 0.05\"},\n",
    "    {\"path\": os.path.join(assets_dir, \"objects\", \"lemon.xml\"), \"name\": \"lemon_1\",\"pos\": \"0.5 -0.3 0.05\"},\n",
    "]\n",
    "\n",
    "# 각 MJCF들을 병합\n",
    "scene_xml_string = SceneCreator.build_mjcf_scene(\n",
    "    base_env_path=base_env_path,\n",
    "    robot_path=robot_path,\n",
    "    objects_to_spawn=objects_to_spawn,\n",
    "    save_xml=False\n",
    ")"
   ]
  },
  {
   "cell_type": "code",
   "execution_count": 21,
   "id": "63a1dd0c",
   "metadata": {},
   "outputs": [],
   "source": [
    "# XML 문자열로부터 MuJoCo 모델(물리/구조 정보) 생성\n",
    "model = mj.MjModel.from_xml_string(scene_xml_string)\n",
    "# 모델에 대한 시뮬레이션 데이터(상태 변수, 센서값 등) 생성\n",
    "data = mj.MjData(model)\n",
    "\n",
    "# mujoco 카메라(메인, 로봇 시점), 옵션, 씬(각 시점의 3D 그래픽 정보) 객체 선언\n",
    "main_cam = mj.MjvCamera()\n",
    "robot_cam = mj.MjvCamera()\n",
    "opt = mj.MjvOption()\n",
    "scene_main = mj.MjvScene(model, maxgeom=10000)\n",
    "scene_robot = mj.MjvScene(model, maxgeom=10000)"
   ]
  },
  {
   "cell_type": "code",
   "execution_count": 22,
   "id": "c32439b0",
   "metadata": {},
   "outputs": [],
   "source": [
    "# GLFW 초기화 및 윈도우 생성\n",
    "glfw.init()\n",
    "window_main = glfw.create_window(900, 900, \"Main View\", None, None)\n",
    "window_robot = glfw.create_window(640, 480, \"Camera View\", None, window_main)\n",
    "\n",
    "# OpenGL 컨텍스트 연결 및 렌더 컨텍스트 생성\n",
    "glfw.make_context_current(window_main)\n",
    "ctx_main = mj.MjrContext(model, mj.mjtFontScale.mjFONTSCALE_150.value)\n",
    "glfw.make_context_current(window_robot)\n",
    "ctx_robot = mj.MjrContext(model, mj.mjtFontScale.mjFONTSCALE_150.value)\n",
    "\n",
    "# 수직 동기화 설정: 1 활성화, 0 비활성화\n",
    "glfw.swap_interval(1)\n",
    "# Free Camera, 렌더링 옵션 기본값\n",
    "mj.mjv_defaultFreeCamera(model, main_cam)\n",
    "mj.mjv_defaultOption(opt)"
   ]
  },
  {
   "cell_type": "code",
   "execution_count": 23,
   "id": "643ce2dd",
   "metadata": {},
   "outputs": [],
   "source": [
    "# 메인 카메라: 자유 이동(Free) 모드 설정\n",
    "main_cam.type = mj.mjtCamera.mjCAMERA_FREE\n",
    "main_cam.azimuth = 0     # 카메라 수평(좌우) 회전 각도\n",
    "main_cam.elevation = -30 # 카메라 수직(상하) 회전 각도\n",
    "main_cam.distance = 2    # 카메라와 대상(lookat) 사이 거리\n",
    "main_cam.lookat = np.array([0.0, 0.0, 0.5]) # 카메라가 바라보는 좌표\n",
    "\n",
    "# 로봇 카메라: 고정(Fixed) 모드 및 특정 카메라 ID로 지정\n",
    "robot_cam.type = mj.mjtCamera.mjCAMERA_FIXED \n",
    "cam_id = mj.mj_name2id(model, mj.mjtObj.mjOBJ_CAMERA, \"camera\")\n",
    "robot_cam.fixedcamid = cam_id\n",
    "\n",
    "# 메인 씬: 그림자/반사 효과 비활성화 (성능 향상 목적)\n",
    "scene_main.flags[mj.mjtRndFlag.mjRND_SHADOW] = False\n",
    "scene_main.flags[mj.mjtRndFlag.mjRND_REFLECTION] = False"
   ]
  },
  {
   "cell_type": "code",
   "execution_count": 24,
   "id": "1485f02d",
   "metadata": {},
   "outputs": [],
   "source": [
    "# 수직 동기화 설정: 1 활성화, 0 비활성화\n",
    "glfw.swap_interval(1)\n",
    "\n",
    "# 콜백 핸들러 객체 생성\n",
    "mousecallbacks = MouseCallbacks()\n",
    "kbdcallbacks = KeyboardCallbacks()\n",
    "\n",
    "# GLFW 콜백 등록 (키보드, 커서, 마우스 버튼, 마우스 스크롤)\n",
    "glfw.set_key_callback(window_main, \n",
    "                    lambda w, k, sc, act, m: kbdcallbacks.keyboardGLFW(w, k, sc, act, m, model, data))\n",
    "glfw.set_cursor_pos_callback(window_main, \n",
    "                    lambda w, x, y: mousecallbacks.mouse_move(w, x, y, model, scene_main, main_cam))\n",
    "glfw.set_mouse_button_callback(window_main, \n",
    "                    lambda w, b, act, m: mousecallbacks.mouse_button(w, b, act, m))\n",
    "glfw.set_scroll_callback(window_main, \n",
    "                    lambda w, xo, yo: mousecallbacks.scroll(w, xo, yo, model, scene_main, main_cam))"
   ]
  },
  {
   "cell_type": "code",
   "execution_count": 25,
   "id": "09b31264",
   "metadata": {},
   "outputs": [],
   "source": [
    "from utils.mujoco_renderer import Renderer\n",
    "from utils.camera_recorder import CameraRecorder\n",
    "\n",
    "main_renderer = Renderer(window_main, scene_main, ctx_main, main_cam, model, data, opt)\n",
    "robot_renderer = Renderer(window_robot, scene_robot, ctx_robot, robot_cam, model, data, opt)\n",
    "robot_view_width, robot_view_height = glfw.get_framebuffer_size(window_robot)\n",
    "\n",
    "output_path = \"record.mp4\"\n",
    "\n",
    "recorder = CameraRecorder(\n",
    "    window=window_robot,\n",
    "    width=robot_view_width, \n",
    "    height=robot_view_height, \n",
    "    filename=output_path,\n",
    ")"
   ]
  },
  {
   "cell_type": "code",
   "execution_count": 26,
   "id": "d2d290b3",
   "metadata": {},
   "outputs": [
    {
     "name": "stdout",
     "output_type": "stream",
     "text": [
      "Camera view has been recorded to record.mp4\n"
     ]
    }
   ],
   "source": [
    "while not glfw.window_should_close(window_main):\n",
    "    time_prev = data.time\n",
    "    while (data.time - time_prev < 1.0 / 60.0): # 60fps\n",
    "        try:\n",
    "            mj.mj_step(model, data)\n",
    "        except mj.MjError as e:\n",
    "            print(f\"시뮬레이션 불안정성 감지: {e}. 데이터를 리셋합니다.\")\n",
    "            mj.mj_resetData(model, data)\n",
    "            mj.mj_forward(model, data)\n",
    "            break\n",
    "\n",
    "    main_renderer.render_window(overlay_type=\"robot_pose\")\n",
    "    robot_renderer.render_window(overlay_type=None)\n",
    "    recorder.capture_and_write()\n",
    "    glfw.poll_events()\n",
    "glfw.terminate()\n",
    "recorder.release()"
   ]
  },
  {
   "cell_type": "markdown",
   "id": "f5417dda",
   "metadata": {},
   "source": [
    "### 데이터 셋 생성"
   ]
  },
  {
   "cell_type": "code",
   "execution_count": 17,
   "id": "b4f5543a",
   "metadata": {},
   "outputs": [
    {
     "name": "stdout",
     "output_type": "stream",
     "text": [
      "프레임 저장 경로 : ./image_datasets/images\n",
      "비디오 프레임의 총 프레임 수 : 1733\n",
      "초당 프레임 수 : 30.0\n",
      "저장할 프레임의 fps : 4\n"
     ]
    },
    {
     "name": "stderr",
     "output_type": "stream",
     "text": [
      "Processing frames: 100%|██████████| 1733/1733 [00:01<00:00, 871.35it/s]"
     ]
    },
    {
     "name": "stdout",
     "output_type": "stream",
     "text": [
      "총 저장된 프레임 수 : 248\n"
     ]
    },
    {
     "name": "stderr",
     "output_type": "stream",
     "text": [
      "\n"
     ]
    }
   ],
   "source": [
    "from utils.video_to_frame_converter import VideoToFramesConverter\n",
    "\n",
    "frame_saver = VideoToFramesConverter(\n",
    "    video_path=\"./record.mp4\",\n",
    "    output_dir=\"./image_datasets/images\",\n",
    "    saving_fps=4\n",
    ")\n",
    "\n",
    "frame_saver.save_frames()"
   ]
  }
 ],
 "metadata": {
  "kernelspec": {
   "display_name": "mujoco",
   "language": "python",
   "name": "python3"
  },
  "language_info": {
   "codemirror_mode": {
    "name": "ipython",
    "version": 3
   },
   "file_extension": ".py",
   "mimetype": "text/x-python",
   "name": "python",
   "nbconvert_exporter": "python",
   "pygments_lexer": "ipython3",
   "version": "3.11.13"
  }
 },
 "nbformat": 4,
 "nbformat_minor": 5
}
