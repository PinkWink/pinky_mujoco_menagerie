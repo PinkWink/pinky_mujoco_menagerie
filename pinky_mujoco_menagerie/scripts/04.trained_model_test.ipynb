{
 "cells": [
  {
   "cell_type": "markdown",
   "id": "fc08e2df",
   "metadata": {},
   "source": [
    "### 이미지로 테스트"
   ]
  },
  {
   "cell_type": "code",
   "execution_count": 1,
   "id": "14d1f5c4",
   "metadata": {},
   "outputs": [
    {
     "name": "stdout",
     "output_type": "stream",
     "text": [
      "\n",
      "0: 480x640 1 can, 1 milk, 1 lemon, 135.9ms\n",
      "Speed: 4.3ms preprocess, 135.9ms inference, 1.6ms postprocess per image at shape (1, 3, 480, 640)\n"
     ]
    }
   ],
   "source": [
    "import cv2\n",
    "from ultralytics import YOLO\n",
    "from PIL import Image\n",
    "\n",
    "img_path = \"./mujoco_objects.png\"\n",
    "frame = cv2.resize(cv2.imread(img_path), (640, 480))\n",
    "model = YOLO(\"best.pt\")\n",
    "results = model(source=frame, conf=0.5, verbose=True)"
   ]
  },
  {
   "cell_type": "code",
   "execution_count": 2,
   "id": "6b869496",
   "metadata": {},
   "outputs": [],
   "source": [
    "for i, r in enumerate(results):\n",
    "    im_bgr = r.plot()  \n",
    "    im_rgb = Image.fromarray(im_bgr[..., ::-1]) \n",
    "    r.show()"
   ]
  },
  {
   "cell_type": "markdown",
   "id": "ca62973c",
   "metadata": {},
   "source": [
    "### 실시간으로 테스트"
   ]
  },
  {
   "cell_type": "code",
   "execution_count": 3,
   "id": "3341c7d8",
   "metadata": {},
   "outputs": [],
   "source": [
    "import numpy as np\n",
    "import mujoco as mj\n",
    "from mujoco.glfw import glfw # MuJoCo 시뮬레이터 GLFW (OpenGL 기반 윈도우/입력 라이브러리)\n",
    "\n",
    "import sys, os\n",
    "sys.path.append(os.path.abspath(os.path.join(os.getcwd(), \"..\")))\n",
    "\n",
    "from utils.mouse_callbacks import MouseCallbacks # 마우스 이벤트(카메라 회전/이동/줌 등) 콜백\n",
    "from utils.keyboard_callbacks import KeyboardCallbacks # 키보드 입력(로봇 제어 및 초기화) 콜백 \n",
    "from utils.scene_creator import SceneCreator # MJCF xml 파일 조합 및 scene 빌드용 헬퍼"
   ]
  },
  {
   "cell_type": "code",
   "execution_count": 4,
   "id": "a871e94e",
   "metadata": {},
   "outputs": [
    {
     "name": "stdout",
     "output_type": "stream",
     "text": [
      "project root: c:\\Users\\addinedu\\short\\pinky_mujoco_menagerie\n"
     ]
    }
   ],
   "source": [
    "cwd = os.getcwd() \n",
    "PROJECT_ROOT = os.path.dirname(cwd)\n",
    "print(f\"project root: {PROJECT_ROOT}\")\n",
    "\n",
    "assets_dir = os.path.join(PROJECT_ROOT, \"assets\")\n",
    "base_env_path = os.path.join(assets_dir, \"scenes\", \"floor_sky.xml\")   # 환경 MJCF\n",
    "robot_path = os.path.join(assets_dir, \"robots\", \"pinky\", \"pinky.xml\") # 로봇 MJCF\n",
    "\n",
    "# 배치할 오브젝트 정보\n",
    "objects_to_spawn = [\n",
    "    {\"path\": os.path.join(assets_dir, \"objects\", \"can.xml\"), \"name\": \"can_1\",  \"pos\": \"0.5 0.3 0.05\"},\n",
    "    {\"path\": os.path.join(assets_dir, \"objects\", \"milk.xml\"), \"name\": \"milk_1\", \"pos\": \"0.5 0.0 0.05\"},\n",
    "    {\"path\": os.path.join(assets_dir, \"objects\", \"lemon.xml\"), \"name\": \"lemon_1\",\"pos\": \"0.5 -0.3 0.05\"},\n",
    "]\n",
    "\n",
    "# 각 MJCF들을 병합\n",
    "scene_xml_string = SceneCreator.build_mjcf_scene(\n",
    "    base_env_path=base_env_path,\n",
    "    robot_path=robot_path,\n",
    "    objects_to_spawn=objects_to_spawn,\n",
    "    save_xml=False\n",
    ")"
   ]
  },
  {
   "cell_type": "code",
   "execution_count": 5,
   "id": "201bb4c8",
   "metadata": {},
   "outputs": [],
   "source": [
    "# XML 문자열로부터 MuJoCo 모델(물리/구조 정보) 생성\n",
    "model = mj.MjModel.from_xml_string(scene_xml_string)\n",
    "# 모델에 대한 시뮬레이션 데이터(상태 변수, 센서값 등) 생성\n",
    "data = mj.MjData(model)\n",
    "\n",
    "# mujoco 카메라(메인, 로봇 시점), 옵션, 씬(각 시점의 3D 그래픽 정보) 객체 선언\n",
    "main_cam = mj.MjvCamera()\n",
    "robot_cam = mj.MjvCamera()\n",
    "opt = mj.MjvOption()\n",
    "scene_main = mj.MjvScene(model, maxgeom=10000)\n",
    "scene_robot = mj.MjvScene(model, maxgeom=10000)"
   ]
  },
  {
   "cell_type": "code",
   "execution_count": 6,
   "id": "0240943f",
   "metadata": {},
   "outputs": [],
   "source": [
    "# GLFW 초기화 및 윈도우 생성\n",
    "glfw.init()\n",
    "window_main = glfw.create_window(900, 900, \"Main View\", None, None)\n",
    "window_robot = glfw.create_window(640, 480, \"Camera View\", None, window_main)\n",
    "glfw.hide_window(window_robot)\n",
    "\n",
    "# OpenGL 컨텍스트 연결 및 렌더 컨텍스트 생성\n",
    "glfw.make_context_current(window_main)\n",
    "ctx_main = mj.MjrContext(model, mj.mjtFontScale.mjFONTSCALE_150.value)\n",
    "glfw.make_context_current(window_robot)\n",
    "ctx_robot = mj.MjrContext(model, mj.mjtFontScale.mjFONTSCALE_150.value)\n",
    "\n",
    "# 수직 동기화 설정: 1 활성화, 0 비활성화\n",
    "glfw.swap_interval(1)\n",
    "# Free Camera, 렌더링 옵션 기본값\n",
    "mj.mjv_defaultFreeCamera(model, main_cam)\n",
    "mj.mjv_defaultOption(opt)"
   ]
  },
  {
   "cell_type": "code",
   "execution_count": 7,
   "id": "9a844261",
   "metadata": {},
   "outputs": [],
   "source": [
    "# 메인 카메라: 자유 이동(Free) 모드 설정\n",
    "main_cam.type = mj.mjtCamera.mjCAMERA_FREE\n",
    "main_cam.azimuth = 0     # 카메라 수평(좌우) 회전 각도\n",
    "main_cam.elevation = -30 # 카메라 수직(상하) 회전 각도\n",
    "main_cam.distance = 2    # 카메라와 대상(lookat) 사이 거리\n",
    "main_cam.lookat = np.array([0.0, 0.0, 0.5]) # 카메라가 바라보는 좌표\n",
    "\n",
    "# 로봇 카메라: 고정(Fixed) 모드 및 특정 카메라 ID로 지정\n",
    "robot_cam.type = mj.mjtCamera.mjCAMERA_FIXED \n",
    "cam_id = mj.mj_name2id(model, mj.mjtObj.mjOBJ_CAMERA, \"camera\")\n",
    "robot_cam.fixedcamid = cam_id\n",
    "\n",
    "# 메인 씬: 그림자/반사 효과 비활성화 (성능 향상 목적)\n",
    "scene_main.flags[mj.mjtRndFlag.mjRND_SHADOW] = False\n",
    "scene_main.flags[mj.mjtRndFlag.mjRND_REFLECTION] = False"
   ]
  },
  {
   "cell_type": "code",
   "execution_count": 8,
   "id": "d571a041",
   "metadata": {},
   "outputs": [],
   "source": [
    "# 수직 동기화 설정: 1 활성화, 0 비활성화\n",
    "glfw.swap_interval(1)\n",
    "\n",
    "# 콜백 핸들러 객체 생성\n",
    "mousecallbacks = MouseCallbacks()\n",
    "kbdcallbacks = KeyboardCallbacks()\n",
    "\n",
    "# GLFW 콜백 등록 (키보드, 커서, 마우스 버튼, 마우스 스크롤)\n",
    "glfw.set_key_callback(window_main, \n",
    "                    lambda w, k, sc, act, m: kbdcallbacks.keyboardGLFW(w, k, sc, act, m, model, data))\n",
    "glfw.set_cursor_pos_callback(window_main, \n",
    "                    lambda w, x, y: mousecallbacks.mouse_move(w, x, y, model, scene_main, main_cam))\n",
    "glfw.set_mouse_button_callback(window_main, \n",
    "                    lambda w, b, act, m: mousecallbacks.mouse_button(w, b, act, m))\n",
    "glfw.set_scroll_callback(window_main, \n",
    "                    lambda w, xo, yo: mousecallbacks.scroll(w, xo, yo, model, scene_main, main_cam))"
   ]
  },
  {
   "cell_type": "code",
   "execution_count": 9,
   "id": "b752afad",
   "metadata": {},
   "outputs": [],
   "source": [
    "from utils.mujoco_renderer import Renderer\n",
    "from utils.object_detector import ObjectDetector\n",
    "\n",
    "main_renderer = Renderer(window_main, scene_main, ctx_main, main_cam, model, data, opt)\n",
    "robot_renderer = Renderer(window_robot, scene_robot, ctx_robot, robot_cam, model, data, opt)\n",
    "\n",
    "object_detector = ObjectDetector(\"best.pt\", conf=0.5)"
   ]
  },
  {
   "cell_type": "code",
   "execution_count": 10,
   "id": "0435ec04",
   "metadata": {},
   "outputs": [],
   "source": [
    "import OpenGL.GL as gl\n",
    "\n",
    "def get_last_frame(renderer, window):\n",
    "    width, height = glfw.get_framebuffer_size(window)\n",
    "    buf = gl.glReadPixels(0, 0, width, height, gl.GL_RGB, gl.GL_UNSIGNED_BYTE)\n",
    "    img = np.frombuffer(buf, dtype=np.uint8).reshape(height, width, 3)\n",
    "    img = np.flipud(img)\n",
    "    return img"
   ]
  },
  {
   "cell_type": "code",
   "execution_count": 11,
   "id": "00d8f54d",
   "metadata": {},
   "outputs": [],
   "source": [
    "cv2.namedWindow(\"Robot Camera View\", cv2.WINDOW_NORMAL)\n",
    "cv2.resizeWindow(\"Robot Camera View\", 640, 480)\n",
    "\n",
    "while not glfw.window_should_close(window_main):\n",
    "    time_prev = data.time\n",
    "    while (data.time - time_prev < 1.0 / 120.0):\n",
    "        try:\n",
    "            mj.mj_step(model, data)\n",
    "        except mj.MjError as e:\n",
    "            print(f\"시뮬레이션 불안정성 감지: {e}. 데이터를 리셋합니다.\")\n",
    "            mj.mj_resetData(model, data)\n",
    "            mj.mj_forward(model, data)\n",
    "            break\n",
    "\n",
    "    # 메인 뷰 렌더링\n",
    "    main_renderer.render_window(overlay_type=\"imu\")\n",
    "\n",
    "    # 고정 카메라 뷰 cv2.imshow\n",
    "    robot_img = robot_renderer.render_image_for_cv2()\n",
    "    robot_img_bgr = cv2.cvtColor(robot_img, cv2.COLOR_RGB2BGR)\n",
    "    results = object_detector.predict(robot_img_bgr)\n",
    "    cv2.imshow(\"Robot Camera View\", results)\n",
    "        \n",
    "    glfw.poll_events()\n",
    "    if cv2.waitKey(1) & 0xFF == ord('q'):\n",
    "        break\n",
    "\n",
    "glfw.terminate()\n",
    "cv2.destroyAllWindows()"
   ]
  },
  {
   "cell_type": "code",
   "execution_count": null,
   "id": "812e095f",
   "metadata": {},
   "outputs": [],
   "source": []
  }
 ],
 "metadata": {
  "kernelspec": {
   "display_name": "mujoco",
   "language": "python",
   "name": "python3"
  },
  "language_info": {
   "codemirror_mode": {
    "name": "ipython",
    "version": 3
   },
   "file_extension": ".py",
   "mimetype": "text/x-python",
   "name": "python",
   "nbconvert_exporter": "python",
   "pygments_lexer": "ipython3",
   "version": "3.11.13"
  }
 },
 "nbformat": 4,
 "nbformat_minor": 5
}
