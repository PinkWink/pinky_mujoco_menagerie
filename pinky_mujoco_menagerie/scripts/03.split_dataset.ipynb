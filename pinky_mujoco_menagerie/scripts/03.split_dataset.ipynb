{
 "cells": [
  {
   "cell_type": "code",
   "execution_count": 1,
   "id": "a606c776",
   "metadata": {},
   "outputs": [],
   "source": [
    "!pip install scikit-learn -q"
   ]
  },
  {
   "cell_type": "code",
   "execution_count": 2,
   "id": "a6203450",
   "metadata": {},
   "outputs": [],
   "source": [
    "import os\n",
    "import shutil\n",
    "from sklearn.model_selection import train_test_split\n",
    "\n",
    "image_dir = \"image_datasets/images\"\n",
    "label_dir = \"image_datasets/labels\"\n",
    "train_image_dir = \"image_datasets/train/images\"\n",
    "train_label_dir = \"image_datasets/train/labels\"\n",
    "val_image_dir = \"image_datasets/valid/images\"\n",
    "val_label_dir = \"image_datasets/valid/labels\"\n",
    "\n",
    "# 폴더 생성\n",
    "for d in [train_image_dir, train_label_dir, val_image_dir, val_label_dir]:\n",
    "    os.makedirs(d, exist_ok=True)"
   ]
  },
  {
   "cell_type": "code",
   "execution_count": 3,
   "id": "da0ff8a8",
   "metadata": {},
   "outputs": [],
   "source": [
    "image_files = sorted([f for f in os.listdir(image_dir) if f.endswith('.jpg')])\n",
    "\n",
    "# split train:vlid=8:2\n",
    "train_files, val_files = train_test_split(\n",
    "    image_files, test_size=0.2, random_state=42\n",
    ")\n",
    "\n",
    "def copy_files(file_list, src_img_dir, src_lbl_dir, dst_img_dir, dst_lbl_dir):\n",
    "    for img_file in file_list:\n",
    "        label_file = img_file.replace('.jpg', '.txt')\n",
    "        shutil.copy2(os.path.join(src_img_dir, img_file), \n",
    "                    os.path.join(dst_img_dir, img_file))\n",
    "        shutil.copy2(os.path.join(src_lbl_dir, label_file), \n",
    "                    os.path.join(dst_lbl_dir, label_file))"
   ]
  },
  {
   "cell_type": "code",
   "execution_count": 5,
   "id": "2cdb69c3",
   "metadata": {},
   "outputs": [
    {
     "name": "stdout",
     "output_type": "stream",
     "text": [
      "train: 198개, valid: 50개\n"
     ]
    }
   ],
   "source": [
    "copy_files(train_files, image_dir, label_dir, train_image_dir, train_label_dir)\n",
    "copy_files(val_files, image_dir, label_dir, val_image_dir, val_label_dir)\n",
    "\n",
    "print(f\"train: {len(train_files)}개, valid: {len(val_files)}개\")"
   ]
  }
 ],
 "metadata": {
  "kernelspec": {
   "display_name": "mujoco",
   "language": "python",
   "name": "python3"
  },
  "language_info": {
   "codemirror_mode": {
    "name": "ipython",
    "version": 3
   },
   "file_extension": ".py",
   "mimetype": "text/x-python",
   "name": "python",
   "nbconvert_exporter": "python",
   "pygments_lexer": "ipython3",
   "version": "3.11.13"
  }
 },
 "nbformat": 4,
 "nbformat_minor": 5
}
