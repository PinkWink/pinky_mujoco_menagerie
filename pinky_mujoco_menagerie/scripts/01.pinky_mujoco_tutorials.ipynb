{
 "cells": [
  {
   "cell_type": "code",
   "execution_count": 1,
   "id": "da8f0f72",
   "metadata": {},
   "outputs": [],
   "source": [
    "import numpy as np\n",
    "import mujoco as mj\n",
    "from mujoco.glfw import glfw # MuJoCo 시뮬레이터 GLFW (OpenGL 기반 윈도우/입력 라이브러리)\n",
    "\n",
    "import sys, os\n",
    "sys.path.append(os.path.abspath(os.path.join(os.getcwd(), \"..\")))\n",
    "\n",
    "from utils.mouse_callbacks import MouseCallbacks # 마우스 이벤트(카메라 회전/이동/줌 등) 콜백\n",
    "from utils.keyboard_callbacks import KeyboardCallbacks # 키보드 입력(로봇 제어 및 초기화) 콜백 \n",
    "from utils.scene_creator import SceneCreator # MJCF xml 파일 조합 및 scene 빌드용 헬퍼"
   ]
  },
  {
   "cell_type": "code",
   "execution_count": 2,
   "metadata": {},
   "outputs": [
    {
     "name": "stdout",
     "output_type": "stream",
     "text": [
      "project root: c:\\Users\\addinedu\\short\\pinky_mujoco_menagerie\n",
      "saved scene.xml\n"
     ]
    }
   ],
   "source": [
    "cwd = os.getcwd() \n",
    "PROJECT_ROOT = os.path.dirname(cwd)\n",
    "print(f\"project root: {PROJECT_ROOT}\")\n",
    "\n",
    "assets_dir = os.path.join(PROJECT_ROOT, \"assets\")\n",
    "base_env_path = os.path.join(assets_dir, \"scenes\", \"floor_sky.xml\")   # 환경 MJCF\n",
    "robot_path = os.path.join(assets_dir, \"robots\", \"pinky\", \"pinky.xml\") # 로봇 MJCF\n",
    "\n",
    "# 배치할 오브젝트 정보\n",
    "objects_to_spawn = [\n",
    "    {\"path\": os.path.join(assets_dir, \"objects\", \"can.xml\"), \"name\": \"can_1\",  \"pos\": \"0.5 0.3 0.05\"},\n",
    "    {\"path\": os.path.join(assets_dir, \"objects\", \"milk.xml\"), \"name\": \"milk_1\", \"pos\": \"0.5 0.0 0.05\"},\n",
    "    {\"path\": os.path.join(assets_dir, \"objects\", \"lemon.xml\"), \"name\": \"lemon_1\",\"pos\": \"0.5 -0.3 0.05\"},\n",
    "]\n",
    "\n",
    "# 각 MJCF들을 병합\n",
    "scene_xml_string = SceneCreator.build_mjcf_scene(\n",
    "    base_env_path=base_env_path,\n",
    "    robot_path=robot_path,\n",
    "    objects_to_spawn=objects_to_spawn,\n",
    "    save_xml=True\n",
    ")"
   ]
  },
  {
   "cell_type": "code",
   "execution_count": 3,
   "id": "63a1dd0c",
   "metadata": {},
   "outputs": [],
   "source": [
    "# XML 문자열로부터 MuJoCo 모델(물리/구조 정보) 생성\n",
    "model = mj.MjModel.from_xml_string(scene_xml_string)\n",
    "# 모델에 대한 시뮬레이션 데이터(상태 변수, 센서값 등) 생성\n",
    "data = mj.MjData(model)\n",
    "\n",
    "# mujoco 카메라(메인, 로봇 시점), 옵션, 씬(각 시점의 3D 그래픽 정보) 객체 선언\n",
    "main_cam = mj.MjvCamera()\n",
    "robot_cam = mj.MjvCamera()\n",
    "opt = mj.MjvOption()\n",
    "scene_main = mj.MjvScene(model, maxgeom=10000)\n",
    "scene_robot = mj.MjvScene(model, maxgeom=10000)"
   ]
  },
  {
   "cell_type": "code",
   "execution_count": 4,
   "id": "c32439b0",
   "metadata": {},
   "outputs": [],
   "source": [
    "# GLFW 초기화 및 윈도우 생성\n",
    "glfw.init()\n",
    "window_main = glfw.create_window(900, 900, \"Main View\", None, None)\n",
    "window_robot = glfw.create_window(640, 480, \"Camera View\", None, window_main)\n",
    "\n",
    "# OpenGL 컨텍스트 연결 및 렌더 컨텍스트 생성\n",
    "glfw.make_context_current(window_main)\n",
    "ctx_main = mj.MjrContext(model, mj.mjtFontScale.mjFONTSCALE_150.value)\n",
    "glfw.make_context_current(window_robot)\n",
    "ctx_robot = mj.MjrContext(model, mj.mjtFontScale.mjFONTSCALE_150.value)\n",
    "\n",
    "# 수직 동기화 설정: 1 활성화, 0 비활성화\n",
    "glfw.swap_interval(1)\n",
    "# Free Camera, 렌더링 옵션 기본값\n",
    "mj.mjv_defaultFreeCamera(model, main_cam)\n",
    "mj.mjv_defaultOption(opt)"
   ]
  },
  {
   "cell_type": "code",
   "execution_count": null,
   "id": "643ce2dd",
   "metadata": {},
   "outputs": [],
   "source": [
    "# 메인 카메라: 자유 이동(Free) 모드 설정\n",
    "main_cam.type = mj.mjtCamera.mjCAMERA_FREE\n",
    "main_cam.azimuth = 0     # 카메라 수평(좌우) 회전 각도\n",
    "main_cam.elevation = -30 # 카메라 수직(상하) 회전 각도\n",
    "main_cam.distance = 2    # 카메라와 대상(lookat) 사이 거리\n",
    "main_cam.lookat = np.array([0.0, 0.0, 0.5]) # 카메라가 바라보는 좌표\n",
    "\n",
    "# 로봇 카메라: 고정(Fixed) 모드 및 특정 카메라 ID로 지정\n",
    "robot_cam.type = mj.mjtCamera.mjCAMERA_FIXED \n",
    "cam_id = mj.mj_name2id(model, mj.mjtObj.mjOBJ_CAMERA, \"camera\")\n",
    "robot_cam.fixedcamid = cam_id\n",
    "\n",
    "# 메인 씬: 그림자/반사 효과 비활성화 (성능 향상 목적)\n",
    "scene_main.flags[mj.mjtRndFlag.mjRND_SHADOW] = False\n",
    "scene_main.flags[mj.mjtRndFlag.mjRND_REFLECTION] = False"
   ]
  },
  {
   "cell_type": "code",
   "execution_count": 6,
   "id": "1485f02d",
   "metadata": {},
   "outputs": [],
   "source": [
    "# 수직 동기화 설정: 1 활성화, 0 비활성화\n",
    "glfw.swap_interval(1)\n",
    "\n",
    "# 콜백 핸들러 객체 생성\n",
    "mousecallbacks = MouseCallbacks()\n",
    "kbdcallbacks = KeyboardCallbacks()\n",
    "\n",
    "# GLFW 콜백 등록 (키보드, 커서, 마우스 버튼, 마우스 스크롤)\n",
    "glfw.set_key_callback(window_main, \n",
    "                    lambda w, k, sc, act, m: kbdcallbacks.keyboardGLFW(w, k, sc, act, m, model, data))\n",
    "glfw.set_cursor_pos_callback(window_main, \n",
    "                    lambda w, x, y: mousecallbacks.mouse_move(w, x, y, model, scene_main, main_cam))\n",
    "glfw.set_mouse_button_callback(window_main, \n",
    "                    lambda w, b, act, m: mousecallbacks.mouse_button(w, b, act, m))\n",
    "glfw.set_scroll_callback(window_main, \n",
    "                    lambda w, xo, yo: mousecallbacks.scroll(w, xo, yo, model, scene_main, main_cam))"
   ]
  },
  {
   "cell_type": "code",
   "execution_count": 7,
   "id": "3cafc69d",
   "metadata": {},
   "outputs": [],
   "source": [
    "# 윈도우에 시뮬레이션과 오버레이 텍스트 렌더링\n",
    "def render_window(window, scene, ctx, cam, model, data, opt, overlay_text=None):\n",
    "    glfw.make_context_current(window)\n",
    "    w, h = glfw.get_framebuffer_size(window)\n",
    "    viewport = mj.MjrRect(0, 0, w, h)\n",
    "    mj.mjv_updateScene(model, data, opt, None, cam, mj.mjtCatBit.mjCAT_ALL.value, scene)\n",
    "    mj.mjr_render(viewport, scene, ctx)\n",
    "    if overlay_text:\n",
    "        mj.mjr_overlay(\n",
    "            mj.mjtFont.mjFONT_NORMAL, \n",
    "            mj.mjtGridPos.mjGRID_TOPRIGHT, \n",
    "            viewport, overlay_text, None, ctx\n",
    "        )\n",
    "    glfw.swap_buffers(window)"
   ]
  },
  {
   "cell_type": "code",
   "execution_count": 8,
   "id": "d19d43d7",
   "metadata": {},
   "outputs": [],
   "source": [
    "# 시뮬레이션에서 imu data를 읽어 반환\n",
    "def get_imu_data():\n",
    "    qpos = data.qpos\n",
    "    quat_mujoco = qpos[3:7]\n",
    "    orientation = [quat_mujoco[1], quat_mujoco[2], quat_mujoco[3], quat_mujoco[0]]\n",
    "\n",
    "    accel = data.sensordata[0:3]\n",
    "    gyro  = data.sensordata[3:6]\n",
    "\n",
    "    return (\n",
    "        \"Orientation (Quat)\\n\"\n",
    "        f\"  x: {orientation[0]:.2f}\\n\"\n",
    "        f\"  y: {orientation[1]:.2f}\\n\"\n",
    "        f\"  z: {orientation[2]:.2f}\\n\"\n",
    "        f\"  w: {orientation[3]:.2f}\\n\"\n",
    "        \"Gyro \\n\"\n",
    "        f\"  x: {gyro[0]:.2f}\\n\"\n",
    "        f\"  y: {gyro[1]:.2f}\\n\"\n",
    "        f\"  z: {gyro[2]:.2f}\\n\"\n",
    "        \"Acceleration\\n\"\n",
    "        f\"  x: {accel[0]:.2f}\\n\"\n",
    "        f\"  y: {accel[1]:.2f}\\n\"\n",
    "        f\"  z: {accel[2]:.2f}\"\n",
    "    )"
   ]
  },
  {
   "cell_type": "code",
   "execution_count": 9,
   "id": "d2d290b3",
   "metadata": {},
   "outputs": [],
   "source": [
    "while not glfw.window_should_close(window_main):\n",
    "    time_prev = data.time\n",
    "    while (data.time - time_prev < 1.0 / 60.0): # 60fps\n",
    "        try:\n",
    "            mj.mj_step(model, data)\n",
    "        except mj.MjError as e:\n",
    "            print(f\"시뮬레이션 불안정성 감지: {e}. 데이터를 리셋합니다.\")\n",
    "            mj.mj_resetData(model, data)\n",
    "            mj.mj_forward(model, data)\n",
    "            break\n",
    "\n",
    "    overlay_text = get_imu_data()\n",
    "    render_window(window_main, scene_main, ctx_main, main_cam, model, data, opt, overlay_text)\n",
    "    render_window(window_robot, scene_robot, ctx_robot, robot_cam, model, data, opt)\n",
    "\n",
    "    glfw.poll_events()\n",
    "glfw.terminate()"
   ]
  }
 ],
 "metadata": {
  "kernelspec": {
   "display_name": "mujoco",
   "language": "python",
   "name": "python3"
  },
  "language_info": {
   "codemirror_mode": {
    "name": "ipython",
    "version": 3
   },
   "file_extension": ".py",
   "mimetype": "text/x-python",
   "name": "python",
   "nbconvert_exporter": "python",
   "pygments_lexer": "ipython3",
   "version": "3.11.13"
  }
 },
 "nbformat": 4,
 "nbformat_minor": 5
}
